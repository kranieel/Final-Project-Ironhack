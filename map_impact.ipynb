{
 "cells": [
  {
   "cell_type": "code",
   "execution_count": 9,
   "metadata": {},
   "outputs": [],
   "source": [
    "%reload_ext autoreload\n",
    "%autoreload 2\n",
    "\n",
    "import pandas as pd\n",
    "import numpy as np\n",
    "from selenium import webdriver\n",
    "from selenium.webdriver.chrome.options import Options\n",
    "from webdriver_manager.chrome import ChromeDriverManager\n",
    "from selenium.webdriver.common.by import By\n",
    "import time\n",
    "from functions import *\n",
    "\n",
    "import warnings\n",
    "warnings.filterwarnings('ignore')"
   ]
  },
  {
   "cell_type": "code",
   "execution_count": 10,
   "metadata": {},
   "outputs": [],
   "source": [
    "na='http://www.passc.net/EarthImpactDatabase/New%20website_05-2018/NorthAmerica.html'\n",
    "sa='http://www.passc.net/EarthImpactDatabase/New%20website_05-2018/SouthAmerica.html'\n",
    "eur='http://www.passc.net/EarthImpactDatabase/New%20website_05-2018/Europe.html'\n",
    "afr='http://www.passc.net/EarthImpactDatabase/New%20website_05-2018/Africa.html'\n",
    "asi='http://www.passc.net/EarthImpactDatabase/New%20website_05-2018/AsiaRussia.html'\n",
    "aus='http://www.passc.net/EarthImpactDatabase/New%20website_05-2018/Australia.html'\n",
    "\n",
    "name_na=clean_name(na)\n",
    "country_na=clean_country(na)\n",
    "name_sa=clean_name(sa)\n",
    "country_sa=clean_country(sa)\n",
    "name_eur=clean_name(eur)\n",
    "country_eur=clean_country(eur)\n",
    "name_afr=clean_name(afr)\n",
    "country_afr=clean_country(afr)\n",
    "name_asi=clean_name(asi)\n",
    "country_asi=clean_country(asi)\n",
    "name_aus=clean_name(aus)\n",
    "country_aus=clean_country(aus)"
   ]
  },
  {
   "cell_type": "code",
   "execution_count": 11,
   "metadata": {},
   "outputs": [],
   "source": [
    "country_aus = is_australia(country_aus)\n",
    "country_na = na_country(country_na)"
   ]
  },
  {
   "cell_type": "code",
   "execution_count": 12,
   "metadata": {},
   "outputs": [],
   "source": [
    "names_world=(name_na+name_sa+name_eur+name_afr+name_asi+name_aus)\n",
    "country_world=(country_na+country_sa+country_eur+country_afr+country_asi+country_aus)\n",
    "world_impact=pd.DataFrame()\n",
    "world_impact['Name']=names_world\n",
    "world_impact['Country']=country_world"
   ]
  },
  {
   "cell_type": "code",
   "execution_count": 13,
   "metadata": {},
   "outputs": [
    {
     "data": {
      "text/html": [
       "<div>\n",
       "<style scoped>\n",
       "    .dataframe tbody tr th:only-of-type {\n",
       "        vertical-align: middle;\n",
       "    }\n",
       "\n",
       "    .dataframe tbody tr th {\n",
       "        vertical-align: top;\n",
       "    }\n",
       "\n",
       "    .dataframe thead th {\n",
       "        text-align: right;\n",
       "    }\n",
       "</style>\n",
       "<table border=\"1\" class=\"dataframe\">\n",
       "  <thead>\n",
       "    <tr style=\"text-align: right;\">\n",
       "      <th></th>\n",
       "      <th>Name</th>\n",
       "      <th>Country</th>\n",
       "    </tr>\n",
       "  </thead>\n",
       "  <tbody>\n",
       "    <tr>\n",
       "      <th>0</th>\n",
       "      <td>Ames</td>\n",
       "      <td>U.S.A.</td>\n",
       "    </tr>\n",
       "    <tr>\n",
       "      <th>1</th>\n",
       "      <td>Avak</td>\n",
       "      <td>U.S.A.</td>\n",
       "    </tr>\n",
       "    <tr>\n",
       "      <th>2</th>\n",
       "      <td>Barringer</td>\n",
       "      <td>U.S.A.</td>\n",
       "    </tr>\n",
       "    <tr>\n",
       "      <th>3</th>\n",
       "      <td>Beaverhead</td>\n",
       "      <td>U.S.A.</td>\n",
       "    </tr>\n",
       "    <tr>\n",
       "      <th>4</th>\n",
       "      <td>Brent</td>\n",
       "      <td>Canada</td>\n",
       "    </tr>\n",
       "    <tr>\n",
       "      <th>...</th>\n",
       "      <td>...</td>\n",
       "      <td>...</td>\n",
       "    </tr>\n",
       "    <tr>\n",
       "      <th>185</th>\n",
       "      <td>Tookoonooka</td>\n",
       "      <td>Australia</td>\n",
       "    </tr>\n",
       "    <tr>\n",
       "      <th>186</th>\n",
       "      <td>Veevers</td>\n",
       "      <td>Australia</td>\n",
       "    </tr>\n",
       "    <tr>\n",
       "      <th>187</th>\n",
       "      <td>Wolfe Creek</td>\n",
       "      <td>Australia</td>\n",
       "    </tr>\n",
       "    <tr>\n",
       "      <th>188</th>\n",
       "      <td>Woodleigh</td>\n",
       "      <td>Australia</td>\n",
       "    </tr>\n",
       "    <tr>\n",
       "      <th>189</th>\n",
       "      <td>Yarrabubba</td>\n",
       "      <td>Australia</td>\n",
       "    </tr>\n",
       "  </tbody>\n",
       "</table>\n",
       "<p>190 rows × 2 columns</p>\n",
       "</div>"
      ],
      "text/plain": [
       "            Name    Country\n",
       "0           Ames     U.S.A.\n",
       "1           Avak     U.S.A.\n",
       "2      Barringer     U.S.A.\n",
       "3     Beaverhead     U.S.A.\n",
       "4          Brent     Canada\n",
       "..           ...        ...\n",
       "185  Tookoonooka  Australia\n",
       "186      Veevers  Australia\n",
       "187  Wolfe Creek  Australia\n",
       "188    Woodleigh  Australia\n",
       "189   Yarrabubba  Australia\n",
       "\n",
       "[190 rows x 2 columns]"
      ]
     },
     "execution_count": 13,
     "metadata": {},
     "output_type": "execute_result"
    }
   ],
   "source": [
    "world_impact.to_csv('map_impact.csv')\n",
    "world_impact"
   ]
  }
 ],
 "metadata": {
  "kernelspec": {
   "display_name": "Python 3.9.12 ('base')",
   "language": "python",
   "name": "python3"
  },
  "language_info": {
   "codemirror_mode": {
    "name": "ipython",
    "version": 3
   },
   "file_extension": ".py",
   "mimetype": "text/x-python",
   "name": "python",
   "nbconvert_exporter": "python",
   "pygments_lexer": "ipython3",
   "version": "3.9.12"
  },
  "orig_nbformat": 4,
  "vscode": {
   "interpreter": {
    "hash": "99438a51407a28b2c7fd5ef9c064559cc1666a86fbf251463fb3114ca77fac33"
   }
  }
 },
 "nbformat": 4,
 "nbformat_minor": 2
}
