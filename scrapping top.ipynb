{
 "cells": [
  {
   "cell_type": "code",
   "execution_count": 21,
   "metadata": {},
   "outputs": [],
   "source": [
    "import pandas as pd\n",
    "from selenium import webdriver\n",
    "from selenium.webdriver.chrome.options import Options\n",
    "from webdriver_manager.chrome import ChromeDriverManager\n",
    "from selenium.webdriver.common.by import By\n",
    "import time\n",
    "from functions import *\n",
    "#pip install Google-Images-Search\n",
    "#from google_images_search import GoogleImagesSearch\n",
    "#pip install google_images_download\n",
    "from google_images_download import google_images_download\n",
    "\n",
    "import warnings\n",
    "warnings.filterwarnings('ignore')"
   ]
  },
  {
   "cell_type": "code",
   "execution_count": null,
   "metadata": {},
   "outputs": [],
   "source": [
    "driver=webdriver.Chrome(ChromeDriverManager().install()) \n",
    "# This is the url you will scrape in this exercise\n",
    "url_top = 'https://www.jagranjosh.com/general-knowledge/top-10-most-dangerous-asteroids-1544183915-1'\n",
    "driver.get(url_top)\n",
    "time.sleep(5)\n",
    "driver.close()"
   ]
  },
  {
   "cell_type": "code",
   "execution_count": null,
   "metadata": {},
   "outputs": [],
   "source": [
    "asteroids_sucio=driver.find_element(By.CLASS_NAME, \"table-box\").text.split('\\n')\n",
    "asteroids=[]"
   ]
  },
  {
   "cell_type": "code",
   "execution_count": null,
   "metadata": {},
   "outputs": [],
   "source": [
    "asteroids_sucio"
   ]
  },
  {
   "cell_type": "code",
   "execution_count": null,
   "metadata": {},
   "outputs": [],
   "source": [
    "names=asteroids_sucio[2::3]\n",
    "discover=asteroids_sucio[3::3]\n",
    "fecha=asteroids_sucio[4::3]"
   ]
  },
  {
   "cell_type": "code",
   "execution_count": 22,
   "metadata": {},
   "outputs": [],
   "source": [
    "names=['1. Bennu','2. Zephyr','3. Mithra','4. Florence','5. Cuno','6. Midas','7. Oljato','8. Toutatis','9. Geographos','10. 2002 CE']\n",
    "discover=['Discovered by: LINEAR','Discovered by: Astronomers of the Lowell Observatory Near-Earth Object Search','Discovered by: Belgian astronomer Eric Elst and Bulgarian astronomer Vladimir Shkodrov','Discovered by: Schelte J. \"Bobby\" Bus','Discovered by: C. Hoffmeister','Discovered by: C. Kowal','Discovered by: H. L. Giclas','Discovered by: C. Pollas','Discovered by: A. G. Wilson and R. Minkowski','Discovered by: LINEAR']\n",
    "fecha=['Discovery date: 11 September 1999','Discovery date: 11 April 1999','Discovery date: 22 September 1987','Discovery date: 2 March 1981','Discovery date: 5 June 1959','Discovery date: 6 March 1973','Discovery date: 12 December 1947','Discovery date: 4 January 1989','Discovery date: 14 September 1951','Discovery date: 1 February 2002']\n"
   ]
  },
  {
   "cell_type": "code",
   "execution_count": 23,
   "metadata": {},
   "outputs": [
    {
     "data": {
      "text/html": [
       "<div>\n",
       "<style scoped>\n",
       "    .dataframe tbody tr th:only-of-type {\n",
       "        vertical-align: middle;\n",
       "    }\n",
       "\n",
       "    .dataframe tbody tr th {\n",
       "        vertical-align: top;\n",
       "    }\n",
       "\n",
       "    .dataframe thead th {\n",
       "        text-align: right;\n",
       "    }\n",
       "</style>\n",
       "<table border=\"1\" class=\"dataframe\">\n",
       "  <thead>\n",
       "    <tr style=\"text-align: right;\">\n",
       "      <th></th>\n",
       "      <th>Name</th>\n",
       "      <th>Discover</th>\n",
       "      <th>Date</th>\n",
       "    </tr>\n",
       "  </thead>\n",
       "  <tbody>\n",
       "    <tr>\n",
       "      <th>0</th>\n",
       "      <td>1. Bennu</td>\n",
       "      <td>Discovered by: LINEAR</td>\n",
       "      <td>Discovery date: 11 September 1999</td>\n",
       "    </tr>\n",
       "    <tr>\n",
       "      <th>1</th>\n",
       "      <td>2. Zephyr</td>\n",
       "      <td>Discovered by: Astronomers of the Lowell Obser...</td>\n",
       "      <td>Discovery date: 11 April 1999</td>\n",
       "    </tr>\n",
       "    <tr>\n",
       "      <th>2</th>\n",
       "      <td>3. Mithra</td>\n",
       "      <td>Discovered by: Belgian astronomer Eric Elst an...</td>\n",
       "      <td>Discovery date: 22 September 1987</td>\n",
       "    </tr>\n",
       "    <tr>\n",
       "      <th>3</th>\n",
       "      <td>4. Florence</td>\n",
       "      <td>Discovered by: Schelte J. \"Bobby\" Bus</td>\n",
       "      <td>Discovery date: 2 March 1981</td>\n",
       "    </tr>\n",
       "    <tr>\n",
       "      <th>4</th>\n",
       "      <td>5. Cuno</td>\n",
       "      <td>Discovered by: C. Hoffmeister</td>\n",
       "      <td>Discovery date: 5 June 1959</td>\n",
       "    </tr>\n",
       "    <tr>\n",
       "      <th>5</th>\n",
       "      <td>6. Midas</td>\n",
       "      <td>Discovered by: C. Kowal</td>\n",
       "      <td>Discovery date: 6 March 1973</td>\n",
       "    </tr>\n",
       "    <tr>\n",
       "      <th>6</th>\n",
       "      <td>7. Oljato</td>\n",
       "      <td>Discovered by: H. L. Giclas</td>\n",
       "      <td>Discovery date: 12 December 1947</td>\n",
       "    </tr>\n",
       "    <tr>\n",
       "      <th>7</th>\n",
       "      <td>8. Toutatis</td>\n",
       "      <td>Discovered by: C. Pollas</td>\n",
       "      <td>Discovery date: 4 January 1989</td>\n",
       "    </tr>\n",
       "    <tr>\n",
       "      <th>8</th>\n",
       "      <td>9. Geographos</td>\n",
       "      <td>Discovered by: A. G. Wilson and R. Minkowski</td>\n",
       "      <td>Discovery date: 14 September 1951</td>\n",
       "    </tr>\n",
       "    <tr>\n",
       "      <th>9</th>\n",
       "      <td>10. 2002 CE</td>\n",
       "      <td>Discovered by: LINEAR</td>\n",
       "      <td>Discovery date: 1 February 2002</td>\n",
       "    </tr>\n",
       "  </tbody>\n",
       "</table>\n",
       "</div>"
      ],
      "text/plain": [
       "            Name                                           Discover  \\\n",
       "0       1. Bennu                              Discovered by: LINEAR   \n",
       "1      2. Zephyr  Discovered by: Astronomers of the Lowell Obser...   \n",
       "2      3. Mithra  Discovered by: Belgian astronomer Eric Elst an...   \n",
       "3    4. Florence              Discovered by: Schelte J. \"Bobby\" Bus   \n",
       "4        5. Cuno                      Discovered by: C. Hoffmeister   \n",
       "5       6. Midas                            Discovered by: C. Kowal   \n",
       "6      7. Oljato                        Discovered by: H. L. Giclas   \n",
       "7    8. Toutatis                           Discovered by: C. Pollas   \n",
       "8  9. Geographos       Discovered by: A. G. Wilson and R. Minkowski   \n",
       "9    10. 2002 CE                              Discovered by: LINEAR   \n",
       "\n",
       "                                Date  \n",
       "0  Discovery date: 11 September 1999  \n",
       "1      Discovery date: 11 April 1999  \n",
       "2  Discovery date: 22 September 1987  \n",
       "3       Discovery date: 2 March 1981  \n",
       "4        Discovery date: 5 June 1959  \n",
       "5       Discovery date: 6 March 1973  \n",
       "6   Discovery date: 12 December 1947  \n",
       "7     Discovery date: 4 January 1989  \n",
       "8  Discovery date: 14 September 1951  \n",
       "9    Discovery date: 1 February 2002  "
      ]
     },
     "execution_count": 23,
     "metadata": {},
     "output_type": "execute_result"
    }
   ],
   "source": [
    "lista_col = [names,discover,fecha]\n",
    "lista_name_col = ['Name','Discover','Date']\n",
    "top_asteroids=crear_df(lista_name_col,lista_col)\n",
    "top_asteroids\n"
   ]
  },
  {
   "cell_type": "code",
   "execution_count": 24,
   "metadata": {},
   "outputs": [
    {
     "data": {
      "text/html": [
       "<div>\n",
       "<style scoped>\n",
       "    .dataframe tbody tr th:only-of-type {\n",
       "        vertical-align: middle;\n",
       "    }\n",
       "\n",
       "    .dataframe tbody tr th {\n",
       "        vertical-align: top;\n",
       "    }\n",
       "\n",
       "    .dataframe thead th {\n",
       "        text-align: right;\n",
       "    }\n",
       "</style>\n",
       "<table border=\"1\" class=\"dataframe\">\n",
       "  <thead>\n",
       "    <tr style=\"text-align: right;\">\n",
       "      <th></th>\n",
       "      <th>Name</th>\n",
       "      <th>Discover</th>\n",
       "      <th>Date</th>\n",
       "    </tr>\n",
       "  </thead>\n",
       "  <tbody>\n",
       "    <tr>\n",
       "      <th>0</th>\n",
       "      <td>Bennu</td>\n",
       "      <td>LINEAR</td>\n",
       "      <td>11 September 1999</td>\n",
       "    </tr>\n",
       "    <tr>\n",
       "      <th>1</th>\n",
       "      <td>Zephyr</td>\n",
       "      <td>Search</td>\n",
       "      <td>11 April 1999</td>\n",
       "    </tr>\n",
       "    <tr>\n",
       "      <th>2</th>\n",
       "      <td>Mithra</td>\n",
       "      <td>Shkodrov</td>\n",
       "      <td>22 September 1987</td>\n",
       "    </tr>\n",
       "    <tr>\n",
       "      <th>3</th>\n",
       "      <td>Florence</td>\n",
       "      <td>\"Bobby\" Bus</td>\n",
       "      <td>2 March 1981</td>\n",
       "    </tr>\n",
       "    <tr>\n",
       "      <th>4</th>\n",
       "      <td>Cuno</td>\n",
       "      <td>C. Hoffmeister</td>\n",
       "      <td>5 June 1959</td>\n",
       "    </tr>\n",
       "    <tr>\n",
       "      <th>5</th>\n",
       "      <td>Midas</td>\n",
       "      <td>C. Kowal</td>\n",
       "      <td>6 March 1973</td>\n",
       "    </tr>\n",
       "    <tr>\n",
       "      <th>6</th>\n",
       "      <td>Oljato</td>\n",
       "      <td>H. L. Giclas</td>\n",
       "      <td>12 December 1947</td>\n",
       "    </tr>\n",
       "    <tr>\n",
       "      <th>7</th>\n",
       "      <td>Toutatis</td>\n",
       "      <td>C. Pollas</td>\n",
       "      <td>4 January 1989</td>\n",
       "    </tr>\n",
       "    <tr>\n",
       "      <th>8</th>\n",
       "      <td>Geographos</td>\n",
       "      <td>A. G. R. Minkowski</td>\n",
       "      <td>14 September 1951</td>\n",
       "    </tr>\n",
       "    <tr>\n",
       "      <th>9</th>\n",
       "      <td>CE</td>\n",
       "      <td>LINEAR</td>\n",
       "      <td>1 February 2002</td>\n",
       "    </tr>\n",
       "  </tbody>\n",
       "</table>\n",
       "</div>"
      ],
      "text/plain": [
       "         Name             Discover               Date\n",
       "0       Bennu               LINEAR  11 September 1999\n",
       "1      Zephyr               Search      11 April 1999\n",
       "2      Mithra             Shkodrov  22 September 1987\n",
       "3    Florence          \"Bobby\" Bus       2 March 1981\n",
       "4        Cuno       C. Hoffmeister        5 June 1959\n",
       "5       Midas             C. Kowal       6 March 1973\n",
       "6      Oljato         H. L. Giclas   12 December 1947\n",
       "7    Toutatis            C. Pollas     4 January 1989\n",
       "8  Geographos   A. G. R. Minkowski  14 September 1951\n",
       "9          CE               LINEAR    1 February 2002"
      ]
     },
     "execution_count": 24,
     "metadata": {},
     "output_type": "execute_result"
    }
   ],
   "source": [
    "top_asteroids['Discover'].replace(to_replace='\\w+\\W\\w+\\W', value='',regex=True,inplace=True)\n",
    "top_asteroids['Name'].replace(to_replace='\\S+ ', value='',regex=True,inplace=True)\n",
    "top_asteroids['Date'].replace(to_replace='\\w+\\W\\w+\\W ', value='',regex=True,inplace=True)\n",
    "\n",
    "top_asteroids.to_csv('top_asteroids.csv')\n",
    "top_asteroids\n",
    "\n"
   ]
  },
  {
   "cell_type": "code",
   "execution_count": null,
   "metadata": {},
   "outputs": [],
   "source": [
    "#---------------------------------------------------------------------------------------------------------------------"
   ]
  },
  {
   "cell_type": "code",
   "execution_count": null,
   "metadata": {},
   "outputs": [],
   "source": [
    "meses={'January':'01',\n",
    "    'February':'02',\n",
    "    'March':'03',\n",
    "    'April':'04',\n",
    "    'May':'05',\n",
    "    'June':'06',\n",
    "    'July':'07',\n",
    "    'August':'08',\n",
    "    'September':'09',\n",
    "    'October':'10',\n",
    "    'November':'11',\n",
    "    'December':'12'}"
   ]
  },
  {
   "cell_type": "code",
   "execution_count": null,
   "metadata": {},
   "outputs": [],
   "source": [
    "img_asteroid = pd.DataFrame()"
   ]
  },
  {
   "cell_type": "code",
   "execution_count": null,
   "metadata": {},
   "outputs": [],
   "source": [
    "img_asteroid['Name']= top_asteroids['Name']\n",
    "img=['data:image/jpeg;base64,/9j/4AAQSkZJRgABAQAAAQABAAD/2wCEAAkGBxIREhUSExIVFRAWFhoYEhMTGBYXGBcYFRkXGRUTFhUaHCogGRslIBkXITMiJSkrMi4uGR8zODQsNygtLisBCgoKDQ0NDg0PDysZFRkrLTcrLS03KzcrKys3KystNy0rLSs3KysrKy0tKysrKystKysrNystLSsrLSsrKysrK//AABEIANIA8AMBIgACEQEDEQH/xAAcAAEAAgMBAQEAAAAAAAAAAAAABAUCAwYHAQj/xAA4EAABAwMCBAQEBAUEAwAAAAABAAIRAxIhMUEEIlFhBTJxgQYTkaFCscHwFFJi0eEjcoLxBxWS/8QAFgEBAQEAAAAAAAAAAAAAAAAAAAEC/8QAFhEBAQEAAAAAAAAAAAAAAAAAAAER/9oADAMBAAIRAxEAPwDw5ERRoREQEREBERAREQEREBERAREQEREBERAREQEREBERAREQEREBERAREQEREBERAREQEREBERAREQEREBERAREQEREBERAREQEREBERAREQEREBERAREQEREBEV1wngDnMD3G2YgYkjOde2/wB0RSoum4XwOlIGXuiXNkgtiZkjXb/tT3+A0wBNMmmJLtAS4sEEO1jJMTE295uDikXSVfhprhNKpjJgy60ZAL4ALRIIkjY461n/AKapeWC260ubzDmjZp0nUx2KYK5FlUYWktcCHAwQRBBGoI2KxUUREQEREBERAREQEREBERAREQEREBERAREQFsotk+W7sJ/TKypMjzDaRM7xBx2z6eys+CBuudII8tsawJwewHZVErhvDAIAgm1l+hguAc2HAnXXbQghWtGg+RJDHiGsEYDHamBGIvhoxMTEreKAFz2QAc4EtdBdaHHAkB4EwZ10lfKb/lvJgYIOROmmv3kbd1Ra06VNtQikMGRc4CcN5nPMwCYGg1R3Dh3MXSZM74xroND1Wqpwt8G8NFp5smdzqf8AblTqbvl0/lwQQAC4ky8wAargByuOnWAOwVRDq8PZhoaI0hucMDdtojHUz3UV7QSQ4i6ZAhpFMwPKMj2jXGitLiMTD27OuBORy5HLidcm3qvlCk1tR5aW3OEHDbo0GSTnMCB+aCg8U+HRXcDmm8ReTm1sQ0FuJOO28yVxfFcM6k4se0hwOh/MdR3XqbuHbLWiRcZDsgG2HFt2/wCImdfVYeKeD0uIaHPLnFggQPwuJHkJEHTPYnKlivKUU/xfwt/DvhwNjpNNxBFzZjQgEHsQPuFAWQRERRERAREQEREBERAREQEREBERAW2jTJyMZ1kDutSs/DOF0ed/IehaQLtDjP29AajCnRgN7kkzIwNiBmMHM77K94ejc5jRyhwhmYDb8iXu0aPWdBMqLR4WSHsJ5SJggAked7dD0zOzskaS31hVdZSFx5Q2DDeVxvl7oJ/CYA3cNlRccMLaZBiA0EAEYFrWk9JiNvsotFzXQ92nMC3QOMETB7wdTotzqXORaXOlrWmYaZIknGkkiZwGjqY28LRaIDjLWmGZBtFxIaMQBdAAH5qi74agIi7ljXy8zRsHafvWVE46rEgOEOBi1xhoMkQ52Sdozkb77KL3GSJbEa6kmCMnUxn39lq4nhi8tmQ2QDAgnMN/MlEYcMeW/mD+rQ7Qh1xLTiRspXnlzWubLiWg2yGkkAEiJMRoNQVMpUWsAbuQAT1IMCe51JnOqncPR5TLR0E9IGpj1QQDwssFwBEgiZBJBlvXMmMfdSKosm0AXGBbkDq5+dN9tR6reKraYOCTERsBOM4k5jrEd18NUF0gNOROp3EY3Qcp8d+C1eJDXUjc+kDdTG4cGy5hJ7DGpifXzV7SCQQQQYIOCCNQQv0I1mYiCJjAgdtNczn+y82+P/heyeJpDvXYIME61BG06/XSYlVwaIiyoiIgIiICIiAiIgIiICIiAiIg3cMyTnRWjDAac3zgbmdSP79gq3gxzDPp69Mq4ZktcWktbm3SYJGOm/0GysQb4QHMy61wGDcXAjLSANR5SYOwVh4LxhpH5JGjHlpm0AgA3XbY+Zg7nvjbX4i1gY0NibnVAMvcGhr3SQZG9o6zvKw4dpdiJIBJ/wBreUgdyTrvzHTKosmy4EBuBJDXCBcQYaTHNlok9SFJ8PcS1rXnmwIDQACBIA3iZydSRqolGg9xsa4BwAD57ESA4Y/mJ211hX9JtsQBe5wJt2JgBs7CB7T0hVGui8MAcWwABaCDALzqW55vKMRhTaNE2EyCJtcWiYLnTHtiZWNHhnSHnymJB0jMbSeYDfc+8nheHkFgkMmYzthoOc6DX7wgwoeGh9RlQSSwOaIMAh4EzPeCCrfh+HI3k/1AfXaNvqo1DDQI1dsS2XDMAjbB+kKVxF0sLdSRcJOBDoGO8INT+DvBaXOG+NjOsk/5yVEr1AynAzBFxcYBki5w6D3wrUHlMiXmIHsYBI03ytLG3Sx7ZuBLnQQ0xNoPQgRnGmEGYAfTwRaQOYGJkiIcNN8jstNan8yQQy0YeA6HNGsOHQgH2ELb/DOAFrRG7Y2mW/v9Vk1pZe+3lOTa3mMCAe/TP6BB4v8AGPw7/B1AWOD+HqSaThmP6Cd+x3C55e7+KeEN4i6i6mDTNpAaIMzjMgGD16rxTxXwyrw1Q0qrC1466EfzNO4WbFQ0RFFEREBERAREQEREBERAREQbuEeGvBOgOfRXXhJNZ5jyMbdEgYAtGTvp7Arn1dfD3EhhPQiCPcHHTT9yrEdA+iGsggAGHNgZc6Wllz4nJImZGXbmUcS3YkGBBEwAIxmB5Y9Gx1Wj+KAEuF3KM4wzJIu3IBaYOndTvmgQ7XUQds2hpb0kz3JGxlaEjwxny4qODnSXFzWgmBaLXRqScCB1VzxVruYuIL5jTGJJJ0nT691S0nPuaYupANc3Yxk2mO+Z6DsrHha8BxgtmIdLTIxcR0AMCD07Ii0pcM5osBcRywBEBrcERjYff1Wfw/ULr3B0sdmnseXlLYLRjlnrk9l94XxEW5AaW4Ibk4JyOgyp1B2C5wa1zhIgzvviJzqPug0ENLmtdo6LYOhbzQYIn9chXFej8xpZdbcwgWyHAkQSDO36Kir1MBrRLDJjJEyZgRiTJ7a7q24KryNa1vKGc0GIdAkCMxrnVBs8MpVadMtqEPcMQP7uicb+qnMs8xjpjJ+v0UCrxmQIkGILcggyMn8MYyY1UfiqHz28s0w17nWiB82+m4OEggiS8kE7j0QTaFNrCWtJ1kggEF13M6Y166ZJhU1CjUq8W94q1BTAtsu5QQ1oMM0EOuzGoPQBSaNCy1txBsJOW+swNY0Uzw2u2Xi6XNIuGhaXAHfbO2PogMpkOAIvExJ6QBMRE5PT7rmv/Jfg44jhy4CKtEOqTOS0DmEbyAD7Lq/mXENbAAg8vfOs9vodlQfHfjNPh+GrGZqub8pjZ0c8HMdQHT7DsoPC0RFloREQEREBERAREQEREBERB9aJVlwjNXiILTy4zmBg++nRVzHEadFY8BUaRBy6CM99z12H6bqxFl4dJDbdAZe3BydQegcJ74VpRqYIEHGkG7Uk+2g9lS8C+3lOBoO2CSe4lx9u6k0OIaHYkhnLbOxIA9BJ+i0LPgqxAdF3KdhJ0a7AJ7AZzqrPxITcPmgMcLTUpgsiQfwny7DTY9lWcIyXXA8p1Bncf9eysKVE3OZ6AtcPbzbanG/rqEihxhcAH2O5WnAIJ7gaHpEiLe8CU24NbVNRrmAgvgSHtphxa0CTAkA/8Y7qrBbaQ9sgghzgSC0GZBxM4AkdJUmuzksc57hEQJyCQHRjEQ7T+YhEXN4eA6m4BxEgE/8AER9umIVlwgEh2YyQOkCCCN/efsuXl5Lfl/gf/qAyDYBFzToXSZnuRhXtN7xoZjTEQAMYydInr0CCdUpgOaGyGiYOwMgQRqZkrdRqBgLC8vMkiDoCSQBnAAjv9FFbVFsnQtdc5kAgwC0wZuG0ytJolsuD84iACARPUYBkemEF1TDA6YwAMxg5MD1Bkz0I9tNW4S4DMExP4sAZ2wOn5LH+MOOkZ6yY0Wmo5x81oOwBnSDJwMz+9kG1tYwDo47YMEjOd9DnsvIfjzxxvEVQxghtMuuIIIc9xycYxGo6n36P49+JjSBoUakVCLalpILcNPKNNMT/AFYXmalWCIiyoiIgIiICIiAiIgIiICIiD61xBkGD1C2cLUDXAkSBtscb9lqX0IOo4/hS+l/FUQZBDXMjQkCXjrmQR/UFRcLUyAcHMz+Inr+S30PGKraZotd/pkg2mALtySdc99ljRN8kbbH2wR0/t9NIvOC4i1tuQ4HlkmCf2fXlC6GlXc4suyY80SZa0G7EdB3XL+HVJLZBJbq09ckBvbTvr2XRUbHQ4DHMBAP8v4s/l17KjOlWnlc1rqgBcbcTBjmnAJ2nbPrZU6QuIyMy6dOgnP8AnPZc8C8VCd3mc6Xi1rdsT9MLoeDY1oyDzZdM4wNB/L6HMojWKMEEGGgERETEk3HIiSdth2W7hPFD/up7kdH+U9x3E/ZV/iTDVZY6pa+QQWgxaC2+ROW4I6/WFYeG1KptJLQBTLJ0IEyBAMHfECLTrsFnwz4kteXSRg6AEDQDrrkayVIa4OdUYA6Wi+YdzThwBOMQPqqahUdJlwMxtBAESSMSf8dFLZ5ZnJxgkZ2O3UH6IJdKsBqQAZIMgwB2xGVzvxb8UjhmuptINcgBkQbZAl57bAb/AFnP4m8YHB0Sabec8jDGAfNzHUYyBOvuvK+IruqOL3uLnuMknUqWjGrULnFziS5xJcTqScklYoiy0IiICIiAiIgIiICIiAiIgIiICIiApnDHBIda7HLnmGZIjAiBr39FDW+g6YYSA1xEuP4c6z0RFxw4lwnlMfi0BdIGdYnA20J0V1wPFubFzRmBcNyczG3UEbHfRc6K0RccDlERnERjzCQJgnSYKtOHDodDgGtN3MCZMyGhwGpkkTE+0LUHQMqNqBtQOYQWvFronMkSHQQ7H5dczaXEXOIFQBwJw49BkRqDBPr10VFTruDSwtbGbfWSSG5jPTthTqJayDLC10XSHOkE82cGB6b+iol1ngPDCG3OBDOYE5wMEa669lvdc1ksbg5Abb/8mcRr9RsqyrTa4hzYugmS5oJkkyIy2Q2B3mFo4nxsOY4ufgjmDicx0Ag6z9YmERfuaKkGHhwzbkZgjWYIEzrtvCg+LfENGgDTab68Wta2JDoEF7jAbg7TkdyuO8U+JXPhtMuDIhwLnAOiQMNIgAfnHrQ1ahe4ucZc4kuPUnUqauO1+KOOc3g/kPrtqVnVWucGvuNoaYa4RAAgDWZA7rh0RQERFFEREBERAREQEREBERAREQEREBERAREQZU6haZBUjhOOcxwIMenf3Ciog6Gp4o03NLxjAIuII1IaYnUbgZK2cX4tTHlcS4C2AQ4aRIdHQ7gmQc5lc0iuouT8QPhwA8wgEk4gyCBO3rvmVVVqznmXOJPfvrHRa0QERFFEREBERAREQEREBERAREQEREBERAREQEREBERAREQEREBERAREQEREBERAREQEREBERAREQEREBERAREQEREBERAREQEREBERAREQEREBERAREQEREBERAREQEREBERAREQEREBERAREQEREBERAREQEREBERAREQEREBERB//2Q==',\n",
    "     'data:image/jpeg;base64,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',\n",
    "     'data:image/jpeg;base64,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',\n",
    "     'data:image/jpeg;base64,/9j/4AAQSkZJRgABAQAAAQABAAD/2wCEAAkGBxIREhUSExIVFRAWFhoYEhMTGBYXGBcYFRkXGRUTFhUaHCogGRslIBkXITMiJSkrMi4uGR8zODQsNygtLisBCgoKDQ0NDg0PDysZFRkrLTcrLS03KzcrKys3KystNy0rLSs3KysrKy0tKysrKystKysrNystLSsrLSsrKysrK//AABEIANIA8AMBIgACEQEDEQH/xAAcAAEAAgMBAQEAAAAAAAAAAAAABAUCAwYHAQj/xAA4EAABAwMCBAQEBAUEAwAAAAABAAIRAxIhMUEEIlFhBTJxgQYTkaFCscHwFFJi0eEjcoLxBxWS/8QAFgEBAQEAAAAAAAAAAAAAAAAAAAEC/8QAFhEBAQEAAAAAAAAAAAAAAAAAAAER/9oADAMBAAIRAxEAPwDw5ERRoREQEREBERAREQEREBERAREQEREBERAREQEREBERAREQEREBERAREQEREBERAREQEREBERAREQEREBERAREQEREBERAREQEREBERAREQEREBERAREQEREBEV1wngDnMD3G2YgYkjOde2/wB0RSoum4XwOlIGXuiXNkgtiZkjXb/tT3+A0wBNMmmJLtAS4sEEO1jJMTE295uDikXSVfhprhNKpjJgy60ZAL4ALRIIkjY461n/AKapeWC260ubzDmjZp0nUx2KYK5FlUYWktcCHAwQRBBGoI2KxUUREQEREBERAREQEREBERAREQEREBERAREQFsotk+W7sJ/TKypMjzDaRM7xBx2z6eys+CBuudII8tsawJwewHZVErhvDAIAgm1l+hguAc2HAnXXbQghWtGg+RJDHiGsEYDHamBGIvhoxMTEreKAFz2QAc4EtdBdaHHAkB4EwZ10lfKb/lvJgYIOROmmv3kbd1Ra06VNtQikMGRc4CcN5nPMwCYGg1R3Dh3MXSZM74xroND1Wqpwt8G8NFp5smdzqf8AblTqbvl0/lwQQAC4ky8wAargByuOnWAOwVRDq8PZhoaI0hucMDdtojHUz3UV7QSQ4i6ZAhpFMwPKMj2jXGitLiMTD27OuBORy5HLidcm3qvlCk1tR5aW3OEHDbo0GSTnMCB+aCg8U+HRXcDmm8ReTm1sQ0FuJOO28yVxfFcM6k4se0hwOh/MdR3XqbuHbLWiRcZDsgG2HFt2/wCImdfVYeKeD0uIaHPLnFggQPwuJHkJEHTPYnKlivKUU/xfwt/DvhwNjpNNxBFzZjQgEHsQPuFAWQRERRERAREQEREBERAREQEREBERAW2jTJyMZ1kDutSs/DOF0ed/IehaQLtDjP29AajCnRgN7kkzIwNiBmMHM77K94ejc5jRyhwhmYDb8iXu0aPWdBMqLR4WSHsJ5SJggAked7dD0zOzskaS31hVdZSFx5Q2DDeVxvl7oJ/CYA3cNlRccMLaZBiA0EAEYFrWk9JiNvsotFzXQ92nMC3QOMETB7wdTotzqXORaXOlrWmYaZIknGkkiZwGjqY28LRaIDjLWmGZBtFxIaMQBdAAH5qi74agIi7ljXy8zRsHafvWVE46rEgOEOBi1xhoMkQ52Sdozkb77KL3GSJbEa6kmCMnUxn39lq4nhi8tmQ2QDAgnMN/MlEYcMeW/mD+rQ7Qh1xLTiRspXnlzWubLiWg2yGkkAEiJMRoNQVMpUWsAbuQAT1IMCe51JnOqncPR5TLR0E9IGpj1QQDwssFwBEgiZBJBlvXMmMfdSKosm0AXGBbkDq5+dN9tR6reKraYOCTERsBOM4k5jrEd18NUF0gNOROp3EY3Qcp8d+C1eJDXUjc+kDdTG4cGy5hJ7DGpifXzV7SCQQQQYIOCCNQQv0I1mYiCJjAgdtNczn+y82+P/heyeJpDvXYIME61BG06/XSYlVwaIiyoiIgIiICIiAiIgIiICIiAiIg3cMyTnRWjDAac3zgbmdSP79gq3gxzDPp69Mq4ZktcWktbm3SYJGOm/0GysQb4QHMy61wGDcXAjLSANR5SYOwVh4LxhpH5JGjHlpm0AgA3XbY+Zg7nvjbX4i1gY0NibnVAMvcGhr3SQZG9o6zvKw4dpdiJIBJ/wBreUgdyTrvzHTKosmy4EBuBJDXCBcQYaTHNlok9SFJ8PcS1rXnmwIDQACBIA3iZydSRqolGg9xsa4BwAD57ESA4Y/mJ211hX9JtsQBe5wJt2JgBs7CB7T0hVGui8MAcWwABaCDALzqW55vKMRhTaNE2EyCJtcWiYLnTHtiZWNHhnSHnymJB0jMbSeYDfc+8nheHkFgkMmYzthoOc6DX7wgwoeGh9RlQSSwOaIMAh4EzPeCCrfh+HI3k/1AfXaNvqo1DDQI1dsS2XDMAjbB+kKVxF0sLdSRcJOBDoGO8INT+DvBaXOG+NjOsk/5yVEr1AynAzBFxcYBki5w6D3wrUHlMiXmIHsYBI03ytLG3Sx7ZuBLnQQ0xNoPQgRnGmEGYAfTwRaQOYGJkiIcNN8jstNan8yQQy0YeA6HNGsOHQgH2ELb/DOAFrRG7Y2mW/v9Vk1pZe+3lOTa3mMCAe/TP6BB4v8AGPw7/B1AWOD+HqSaThmP6Cd+x3C55e7+KeEN4i6i6mDTNpAaIMzjMgGD16rxTxXwyrw1Q0qrC1466EfzNO4WbFQ0RFFEREBERAREQEREBERAREQbuEeGvBOgOfRXXhJNZ5jyMbdEgYAtGTvp7Arn1dfD3EhhPQiCPcHHTT9yrEdA+iGsggAGHNgZc6Wllz4nJImZGXbmUcS3YkGBBEwAIxmB5Y9Gx1Wj+KAEuF3KM4wzJIu3IBaYOndTvmgQ7XUQds2hpb0kz3JGxlaEjwxny4qODnSXFzWgmBaLXRqScCB1VzxVruYuIL5jTGJJJ0nT691S0nPuaYupANc3Yxk2mO+Z6DsrHha8BxgtmIdLTIxcR0AMCD07Ii0pcM5osBcRywBEBrcERjYff1Wfw/ULr3B0sdmnseXlLYLRjlnrk9l94XxEW5AaW4Ibk4JyOgyp1B2C5wa1zhIgzvviJzqPug0ENLmtdo6LYOhbzQYIn9chXFej8xpZdbcwgWyHAkQSDO36Kir1MBrRLDJjJEyZgRiTJ7a7q24KryNa1vKGc0GIdAkCMxrnVBs8MpVadMtqEPcMQP7uicb+qnMs8xjpjJ+v0UCrxmQIkGILcggyMn8MYyY1UfiqHz28s0w17nWiB82+m4OEggiS8kE7j0QTaFNrCWtJ1kggEF13M6Y166ZJhU1CjUq8W94q1BTAtsu5QQ1oMM0EOuzGoPQBSaNCy1txBsJOW+swNY0Uzw2u2Xi6XNIuGhaXAHfbO2PogMpkOAIvExJ6QBMRE5PT7rmv/Jfg44jhy4CKtEOqTOS0DmEbyAD7Lq/mXENbAAg8vfOs9vodlQfHfjNPh+GrGZqub8pjZ0c8HMdQHT7DsoPC0RFloREQEREBERAREQEREBERB9aJVlwjNXiILTy4zmBg++nRVzHEadFY8BUaRBy6CM99z12H6bqxFl4dJDbdAZe3BydQegcJ74VpRqYIEHGkG7Uk+2g9lS8C+3lOBoO2CSe4lx9u6k0OIaHYkhnLbOxIA9BJ+i0LPgqxAdF3KdhJ0a7AJ7AZzqrPxITcPmgMcLTUpgsiQfwny7DTY9lWcIyXXA8p1Bncf9eysKVE3OZ6AtcPbzbanG/rqEihxhcAH2O5WnAIJ7gaHpEiLe8CU24NbVNRrmAgvgSHtphxa0CTAkA/8Y7qrBbaQ9sgghzgSC0GZBxM4AkdJUmuzksc57hEQJyCQHRjEQ7T+YhEXN4eA6m4BxEgE/8AER9umIVlwgEh2YyQOkCCCN/efsuXl5Lfl/gf/qAyDYBFzToXSZnuRhXtN7xoZjTEQAMYydInr0CCdUpgOaGyGiYOwMgQRqZkrdRqBgLC8vMkiDoCSQBnAAjv9FFbVFsnQtdc5kAgwC0wZuG0ytJolsuD84iACARPUYBkemEF1TDA6YwAMxg5MD1Bkz0I9tNW4S4DMExP4sAZ2wOn5LH+MOOkZ6yY0Wmo5x81oOwBnSDJwMz+9kG1tYwDo47YMEjOd9DnsvIfjzxxvEVQxghtMuuIIIc9xycYxGo6n36P49+JjSBoUakVCLalpILcNPKNNMT/AFYXmalWCIiyoiIgIiICIiAiIgIiICIiD61xBkGD1C2cLUDXAkSBtscb9lqX0IOo4/hS+l/FUQZBDXMjQkCXjrmQR/UFRcLUyAcHMz+Inr+S30PGKraZotd/pkg2mALtySdc99ljRN8kbbH2wR0/t9NIvOC4i1tuQ4HlkmCf2fXlC6GlXc4suyY80SZa0G7EdB3XL+HVJLZBJbq09ckBvbTvr2XRUbHQ4DHMBAP8v4s/l17KjOlWnlc1rqgBcbcTBjmnAJ2nbPrZU6QuIyMy6dOgnP8AnPZc8C8VCd3mc6Xi1rdsT9MLoeDY1oyDzZdM4wNB/L6HMojWKMEEGGgERETEk3HIiSdth2W7hPFD/up7kdH+U9x3E/ZV/iTDVZY6pa+QQWgxaC2+ROW4I6/WFYeG1KptJLQBTLJ0IEyBAMHfECLTrsFnwz4kteXSRg6AEDQDrrkayVIa4OdUYA6Wi+YdzThwBOMQPqqahUdJlwMxtBAESSMSf8dFLZ5ZnJxgkZ2O3UH6IJdKsBqQAZIMgwB2xGVzvxb8UjhmuptINcgBkQbZAl57bAb/AFnP4m8YHB0Sabec8jDGAfNzHUYyBOvuvK+IruqOL3uLnuMknUqWjGrULnFziS5xJcTqScklYoiy0IiICIiAiIgIiICIiAiIgIiICIiApnDHBIda7HLnmGZIjAiBr39FDW+g6YYSA1xEuP4c6z0RFxw4lwnlMfi0BdIGdYnA20J0V1wPFubFzRmBcNyczG3UEbHfRc6K0RccDlERnERjzCQJgnSYKtOHDodDgGtN3MCZMyGhwGpkkTE+0LUHQMqNqBtQOYQWvFronMkSHQQ7H5dczaXEXOIFQBwJw49BkRqDBPr10VFTruDSwtbGbfWSSG5jPTthTqJayDLC10XSHOkE82cGB6b+iol1ngPDCG3OBDOYE5wMEa669lvdc1ksbg5Abb/8mcRr9RsqyrTa4hzYugmS5oJkkyIy2Q2B3mFo4nxsOY4ufgjmDicx0Ag6z9YmERfuaKkGHhwzbkZgjWYIEzrtvCg+LfENGgDTab68Wta2JDoEF7jAbg7TkdyuO8U+JXPhtMuDIhwLnAOiQMNIgAfnHrQ1ahe4ucZc4kuPUnUqauO1+KOOc3g/kPrtqVnVWucGvuNoaYa4RAAgDWZA7rh0RQERFFEREBERAREQEREBERAREQEREBERAREQZU6haZBUjhOOcxwIMenf3Ciog6Gp4o03NLxjAIuII1IaYnUbgZK2cX4tTHlcS4C2AQ4aRIdHQ7gmQc5lc0iuouT8QPhwA8wgEk4gyCBO3rvmVVVqznmXOJPfvrHRa0QERFFEREBERAREQEREBERAREQEREBERAREQEREBERAREQEREBERAREQEREBERAREQEREBERAREQEREBERAREQEREBERAREQEREBERAREQEREBERAREQEREBERAREQEREBERAREQEREBERAREQEREBERAREQEREBERAREQEREBERB//2Q==',\n",
    "     'data:image/jpeg;base64,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',\n",
    "     'data:image/jpeg;base64,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',\n",
    "     'data:image/jpeg;base64,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',\n",
    "     'data:image/jpeg;base64,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',\n",
    "     'data:image/jpeg;base64,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',\n",
    "     'data:image/jpeg;base64,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']"
   ]
  },
  {
   "cell_type": "code",
   "execution_count": null,
   "metadata": {},
   "outputs": [],
   "source": [
    "img_asteroid['img'] = img"
   ]
  },
  {
   "cell_type": "code",
   "execution_count": null,
   "metadata": {},
   "outputs": [],
   "source": [
    "img_asteroid"
   ]
  },
  {
   "cell_type": "code",
   "execution_count": null,
   "metadata": {},
   "outputs": [],
   "source": [
    "fecha = fecha.replace('Discovery date: ','',inpace=True)\n",
    "fecha"
   ]
  },
  {
   "cell_type": "code",
   "execution_count": null,
   "metadata": {},
   "outputs": [],
   "source": [
    "from google_images_download import google_images_download   #importing the library\n",
    "\n",
    "response = google_images_download.googleimagesdownload()   #class instantiation\n",
    "\n",
    "arguments = {\"keywords\":\"Polar bears,baloons,Beaches\",\"limit\":20,\"print_urls\":True}   #creating list of arguments\n",
    "paths = response.download(arguments)   #passing the arguments to the function\n",
    "print(paths)   #printing absolute paths of the downloaded images"
   ]
  },
  {
   "cell_type": "code",
   "execution_count": null,
   "metadata": {},
   "outputs": [],
   "source": [
    "\n",
    "# creating object\n",
    "response = google_images_download.googleimagesdownload()\n",
    "\n",
    "search_queries =['Bennu','Kraniel']\n",
    "\n",
    "\n",
    "def downloadimages(query):\n",
    "\t# keywords is the search query\n",
    "\t# format is the image file format\n",
    "\t# limit is the number of images to be downloaded\n",
    "\t# print urls is to print the image file url\n",
    "\t# size is the image size which can\n",
    "\t# be specified manually (\"large, medium, icon\")\n",
    "\t# aspect ratio denotes the height width ratio\n",
    "\t# of images to download. (\"tall, square, wide, panoramic\")\n",
    "\targuments = {\"keywords\": query+' asteroid',\n",
    "\t\t\t\t\"format\": \"png\",\n",
    "\t\t\t\t\"limit\":1,\n",
    "\t\t\t\t\"print_urls\":True,\n",
    "\t\t\t\t\"size\": \"medium\",}\n",
    "\t#try:\n",
    "\tprint(response.download(arguments))\n",
    "\t'''\n",
    "\t# Handling File NotFound Error\n",
    "\texcept FileNotFoundError:\n",
    "\t\targuments = {\"keywords\": query,\n",
    "\t\t\t\t\t\"format\": \"png\",\n",
    "\t\t\t\t\t\"limit\":4,\n",
    "\t\t\t\t\t\"print_urls\":True,}\n",
    "\t\t\t\t\t\n",
    "\t\t# Providing arguments for the searched query\n",
    "\t\ttry:\n",
    "\t\t\t# Downloading the photos based\n",
    "\t\t\t# on the given arguments\n",
    "\t\t\tresponse.download(arguments)\n",
    "\t\texcept:\n",
    "\t\t\tpass'''\n",
    "\n",
    "# Driver Code\n",
    "for query in search_queries:\n",
    "\tdownloadimages(query)\n",
    "\tprint()\n"
   ]
  },
  {
   "cell_type": "code",
   "execution_count": null,
   "metadata": {},
   "outputs": [],
   "source": []
  }
 ],
 "metadata": {
  "kernelspec": {
   "display_name": "Python 3 (ipykernel)",
   "language": "python",
   "name": "python3"
  },
  "language_info": {
   "codemirror_mode": {
    "name": "ipython",
    "version": 3
   },
   "file_extension": ".py",
   "mimetype": "text/x-python",
   "name": "python",
   "nbconvert_exporter": "python",
   "pygments_lexer": "ipython3",
   "version": "3.9.12"
  },
  "vscode": {
   "interpreter": {
    "hash": "99438a51407a28b2c7fd5ef9c064559cc1666a86fbf251463fb3114ca77fac33"
   }
  }
 },
 "nbformat": 4,
 "nbformat_minor": 2
}
