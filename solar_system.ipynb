{
 "cells": [
  {
   "cell_type": "code",
   "execution_count": null,
   "metadata": {},
   "outputs": [],
   "source": [
    "%reload_ext autoreload\n",
    "%autoreload 2\n",
    "\n",
    "import pandas as pd\n",
    "import numpy as np\n",
    "from selenium import webdriver\n",
    "from selenium.webdriver.chrome.options import Options\n",
    "from webdriver_manager.chrome import ChromeDriverManager\n",
    "from selenium.webdriver.common.by import By\n",
    "import time\n",
    "from functions import *\n",
    "\n",
    "import warnings\n",
    "warnings.filterwarnings('ignore')"
   ]
  },
  {
   "cell_type": "code",
   "execution_count": null,
   "metadata": {},
   "outputs": [],
   "source": [
    "sistema_solar=pd.read_csv('https://raw.githubusercontent.com/InterImm/dataset-planets-in-solar-system/master/dataset/planets_in_solar_system.csv')"
   ]
  },
  {
   "cell_type": "code",
   "execution_count": null,
   "metadata": {},
   "outputs": [],
   "source": [
    "sistema_solar"
   ]
  },
  {
   "cell_type": "code",
   "execution_count": null,
   "metadata": {},
   "outputs": [],
   "source": [
    "col_del=['equatorial_diameter','semi_major_axis','orbital_period','inclination_to_suns_equator','orbital_eccentricity','axial_tilt']\n",
    "sistema_solar=del_columns(sistema_solar,col_del)\n",
    "sistema_solar"
   ]
  },
  {
   "cell_type": "code",
   "execution_count": null,
   "metadata": {},
   "outputs": [],
   "source": [
    "sistema_solar['atmosphere'][0]='H,He,0'\n",
    "sistema_solar['rings'].replace('yes','SI',inplace=True)\n",
    "sistema_solar['rings'].replace('no','NO',inplace=True)\n",
    "sistema_solar\n"
   ]
  },
  {
   "cell_type": "code",
   "execution_count": null,
   "metadata": {},
   "outputs": [],
   "source": [
    "sistema_solar.to_csv('sistema_solar.csv')"
   ]
  },
  {
   "cell_type": "code",
   "execution_count": null,
   "metadata": {},
   "outputs": [],
   "source": [
    "sistema_solar_img=pd.DataFrame()"
   ]
  },
  {
   "cell_type": "code",
   "execution_count": null,
   "metadata": {},
   "outputs": [],
   "source": [
    "sistema_solar_img['name']=sistema_solar['name']\n",
    "planetas=['https://img.icons8.com/external-tulpahn-outline-color-tulpahn/512/external-mercury-space-tulpahn-outline-color-tulpahn.png',\n",
    "          'https://img.icons8.com/external-vitaliy-gorbachev-lineal-color-vitaly-gorbachev/512/external-venus-space-vitaliy-gorbachev-lineal-color-vitaly-gorbachev.png',\n",
    "          'https://img.icons8.com/external-nawicon-outline-color-nawicon/512/external-earth-ecology-nawicon-outline-color-nawicon-2.png',\n",
    "          'https://img.icons8.com/external-tulpahn-outline-color-tulpahn/512/external-mars-space-tulpahn-outline-color-tulpahn.png',\n",
    "          'https://img.icons8.com/external-vitaliy-gorbachev-lineal-color-vitaly-gorbachev/512/external-jupiter-space-vitaliy-gorbachev-lineal-color-vitaly-gorbachev.png',\n",
    "          'https://img.icons8.com/external-tulpahn-outline-color-tulpahn/512/external-saturn-space-tulpahn-outline-color-tulpahn.png',\n",
    "          'https://img.icons8.com/external-prettycons-lineal-color-prettycons/512/external-uranus-space-prettycons-lineal-color-prettycons.png',\n",
    "          'https://img.icons8.com/external-vitaliy-gorbachev-lineal-color-vitaly-gorbachev/512/external-neptune-space-vitaliy-gorbachev-lineal-color-vitaly-gorbachev.png']\n",
    "sistema_solar_img['url_img']=planetas\n",
    "sistema_solar_img"
   ]
  },
  {
   "cell_type": "code",
   "execution_count": null,
   "metadata": {},
   "outputs": [],
   "source": [
    "sistema_solar_img.to_csv('sistem_img.csv')"
   ]
  },
  {
   "cell_type": "code",
   "execution_count": null,
   "metadata": {},
   "outputs": [],
   "source": [
    "\n",
    "falcon=67000000\n",
    "fuel_falcon9=200000\n",
    "vel=40300\n",
    "dist_estacion=354\n",
    "\n",
    "dist_jupiter=590000000\n",
    "dist_mercurio=77000000\n",
    "dist_venus=40000000\n",
    "dist_marte=59000000\n",
    "dist_saturno=1300000000\n",
    "dist_earth=0\n",
    "dist_urano=2721400000\n",
    "dist_neptuno=4345400000\n",
    "\n",
    "dist_planets=[dist_mercurio,dist_venus,dist_earth,dist_marte,dist_jupiter,dist_saturno,dist_urano,dist_neptuno]\n"
   ]
  },
  {
   "cell_type": "code",
   "execution_count": null,
   "metadata": {},
   "outputs": [],
   "source": [
    "costes=pd.DataFrame()"
   ]
  },
  {
   "cell_type": "code",
   "execution_count": null,
   "metadata": {},
   "outputs": [],
   "source": [
    "costes['name']=sistema_solar.name"
   ]
  },
  {
   "cell_type": "code",
   "execution_count": null,
   "metadata": {},
   "outputs": [],
   "source": [
    "costes['distancia']=dist_planets"
   ]
  },
  {
   "cell_type": "code",
   "execution_count": null,
   "metadata": {},
   "outputs": [],
   "source": [
    "costes['tiempo']= tiempo_viaje(dist_planets,vel)\n",
    "costes['tiempo'].replace('0 años','',inplace=True)\n",
    "costes['fuel']= cost(dist_planets)\n",
    "costes['cost']= costes['Fuel']*10\n",
    "\n",
    "costes"
   ]
  },
  {
   "cell_type": "code",
   "execution_count": null,
   "metadata": {},
   "outputs": [],
   "source": [
    "costes.to_csv('costers.csv')"
   ]
  }
 ],
 "metadata": {
  "kernelspec": {
   "display_name": "base",
   "language": "python",
   "name": "python3"
  },
  "language_info": {
   "codemirror_mode": {
    "name": "ipython",
    "version": 3
   },
   "file_extension": ".py",
   "mimetype": "text/x-python",
   "name": "python",
   "nbconvert_exporter": "python",
   "pygments_lexer": "ipython3",
   "version": "3.9.12"
  },
  "orig_nbformat": 4,
  "vscode": {
   "interpreter": {
    "hash": "99438a51407a28b2c7fd5ef9c064559cc1666a86fbf251463fb3114ca77fac33"
   }
  }
 },
 "nbformat": 4,
 "nbformat_minor": 2
}
